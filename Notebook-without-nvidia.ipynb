{
  "cells": [
    {
      "cell_type": "markdown",
      "metadata": {
        "colab_type": "text",
        "id": "view-in-github"
      },
      "source": [
        "<a href=\"https://colab.research.google.com/github/asepindrak/hairstyle-try-on/blob/main/Copy_of_Hair_Style_Try_On_streamlit_app.ipynb\" target=\"_parent\"><img src=\"https://colab.research.google.com/assets/colab-badge.svg\" alt=\"Open In Colab\"/></a>"
      ]
    },
    {
      "cell_type": "code",
      "execution_count": null,
      "metadata": {
        "colab": {
          "base_uri": "https://localhost:8080/"
        },
        "id": "Rd_-o8cNOOAW",
        "outputId": "463b5ad4-fab5-4a43-c4ed-75c0b596ac22"
      },
      "outputs": [
        {
          "name": "stdout",
          "output_type": "stream",
          "text": [
            "Cloning into 'hairstyle-try-on'...\n",
            "remote: Enumerating objects: 280, done.\u001b[K\n",
            "remote: Counting objects: 100% (28/28), done.\u001b[K\n",
            "remote: Compressing objects: 100% (20/20), done.\u001b[K\n",
            "remote: Total 280 (delta 8), reused 18 (delta 7), pack-reused 252 (from 1)\u001b[K\n",
            "Receiving objects: 100% (280/280), 13.33 MiB | 11.03 MiB/s, done.\n",
            "Resolving deltas: 100% (96/96), done.\n",
            "/content/hairstyle-try-on/hairstyle-try-on/hairstyle-try-on/hairstyle-try-on/hairstyle-try-on/hairstyle-try-on/hairstyle-try-on/hairstyle-try-on/hairstyle-try-on/hairstyle-try-on/hairstyle-try-on\n",
            "--2024-10-12 22:10:26--  https://is3.cloudhost.id/erp-sehati/AI/face_segment_checkpoints_256.pth.tar\n",
            "Resolving is3.cloudhost.id (is3.cloudhost.id)... 103.63.24.210, 103.63.24.211\n",
            "Connecting to is3.cloudhost.id (is3.cloudhost.id)|103.63.24.210|:443... connected.\n",
            "HTTP request sent, awaiting response... 200 OK\n",
            "Length: 372579029 (355M) [application/octet-stream]\n",
            "Saving to: ‘face_segment_checkpoints_256.pth.tar’\n",
            "\n",
            "_256.pth.tar          6%[>                   ]  24.75M  --.-KB/s    eta 83m 29s"
          ]
        }
      ],
      "source": [
        "#@title Setup dependencies\n",
        "import os\n",
        "%cd './'\n",
        "# Clone the repository\n",
        "hairstyle = './hairstyle-try-on'\n",
        "if not os.path.exists(hairstyle):\n",
        "    !git clone https://github.com/sanviiz/hairstyle-try-on.git\n",
        "else:\n",
        "    print(f\"{hairstyle} already exists.\")\n",
        "    \n",
        "%cd './hairstyle-try-on'\n",
        "\n",
        "# Check if face segmentation model already exists\n",
        "face_segmentation_path = './image_segmentation/face_segment_checkpoints_256.pth.tar'\n",
        "if not os.path.exists(face_segmentation_path):\n",
        "    !wget https://is3.cloudhost.id/erp-sehati/AI/face_segment_checkpoints_256.pth.tar\n",
        "    !mv face_segment_checkpoints_256.pth.tar ./image_segmentation/face_segment_checkpoints_256.pth.tar\n",
        "else:\n",
        "    print(f\"{face_segmentation_path} already exists.\")\n",
        "\n",
        "# Check if sdedit model already exists\n",
        "sdedit_model_path = './checkpoints/celeba_hq.ckpt'\n",
        "if not os.path.exists(sdedit_model_path):\n",
        "    !wget https://is3.cloudhost.id/erp-sehati/AI/celeba_hq.ckpt\n",
        "    if not os.path.exists('./checkpoints'):\n",
        "        os.makedirs('./checkpoints')\n",
        "    !mv celeba_hq.ckpt ./checkpoints/celeba_hq.ckpt\n",
        "else:\n",
        "    print(f\"{sdedit_model_path} already exists.\")\n",
        "\n",
        "# install librabies\n",
        "!pip -q install pyyaml \\\n",
        "tqdm \\\n",
        "mediapipe \\\n",
        "streamlit \\\n",
        "albumentations==0.4.6 \\\n",
        "pyngrok"
      ]
    },
    {
      "cell_type": "code",
      "execution_count": null,
      "metadata": {
        "id": "HmsTVgvzTDrZ"
      },
      "outputs": [],
      "source": [
        "import subprocess\n",
        "from pyngrok import ngrok\n",
        "\n",
        "# Set your ngrok auth token\n",
        "ngrok.set_auth_token('1ZUSjbzswWes79aSOOblEYn1is0_2W1XQVFzEHHMzwMw9kdQB')\n",
        "\n",
        "# Start the Streamlit app on port 80 using subprocess\n",
        "process = subprocess.Popen(['streamlit', 'run', 'app.py', '--server.port', '80'])\n",
        "\n",
        "# Connect ngrok to port 80\n",
        "url = ngrok.connect(80)\n",
        "\n",
        "# Optionally, connect another tunnel to port 8080\n",
        "ngrok.connect(8080)\n",
        "\n",
        "# Get the list of active tunnels\n",
        "tunnels = ngrok.get_tunnels()\n",
        "print(tunnels)"
      ]
    }
  ],
  "metadata": {
    "accelerator": "GPU",
    "colab": {
      "include_colab_link": true,
      "provenance": []
    },
    "gpuClass": "standard",
    "kernelspec": {
      "display_name": "Python 3",
      "name": "python3"
    },
    "language_info": {
      "name": "python"
    }
  },
  "nbformat": 4,
  "nbformat_minor": 0
}
